{
 "cells": [
  {
   "cell_type": "code",
   "execution_count": null,
   "id": "6543ac37-7041-4f3d-a9a8-bac13e0d6c3e",
   "metadata": {},
   "outputs": [],
   "source": [
    "!pip install --upgrade pip\n",
    "!pip install pandas\n",
    "!pip install scipy\n",
    "!pip install seaborn\n",
    "!pip install numpy"
   ]
  },
  {
   "cell_type": "markdown",
   "id": "e9ef2c0b-03cc-46c4-b957-defafe24dfd1",
   "metadata": {},
   "source": [
    "## Немного статистики"
   ]
  },
  {
   "cell_type": "markdown",
   "id": "cc27b724-5759-42c0-88d4-dc3f80295d12",
   "metadata": {},
   "source": [
    "### Базовые понятия мат. статистики"
   ]
  },
  {
   "cell_type": "markdown",
   "id": "aa0f0b75-56d3-4ea1-a52a-f96ed124aeeb",
   "metadata": {},
   "source": [
    "Для начала вспомнил, какими способами можно поисать поведение признаков (столбцов)\n",
    "\n",
    "Например, существует числовой признак X = $[x1, x2, ... , X_n]$\n",
    "\n",
    "Что можно сказать о P?\n",
    "\n",
    "1. min, max\n",
    "\n",
    "2. Среднее занчение $ \\bar x = {x_1+x_2+...+p_n \\over n} $\n",
    "\n",
    "3. Медиана - такое число $h_x$ котороое делит выборку таким образом, что ровно половина элементов больше него, а другая половина элементов меньше. Например для выборки [1,3,5,5,15] $ \\bar x = 5.8 $, а $ h_x = 5 $ "
   ]
  },
  {
   "cell_type": "markdown",
   "id": "cd392013-0fbb-45b6-a057-cfd3b58d918e",
   "metadata": {},
   "source": [
    "То есть, в отсортированном массиве медиана - занчение по середине $ X[len(X)] \\over 2 $. Для выборок с четным количеством элементов - медиана не оределена и считается как среднее между двумя соседями по середине. $ (X[(len(X) - 1) /2 ] + X[(len(X) + 1) /2]) \\over 2 $\n",
    "\n",
    "\n",
    "**Медиана vs Среднее**\n",
    "\n",
    "Значение медианы не так сильно зависит от попадания в выборку аномально больших и аномально малых значений признака\n",
    "\n",
    "**Симметричные выборки**\n",
    "\n",
    "Если медиана и среднее близки к друг-другу, то выборка называется симметричной\n",
    "\n",
    "Важность симметричных выборок - Для них проще искать аномалии4. Мода - значение которое наиболее часто встречается в выборке. Например модой для массива [1,2,1,1,6,5,9,102,1] будет 1. Мода не всегда определена однозначно. !!! Мода имеет смысл и для номинальных признаков"
   ]
  },
  {
   "cell_type": "markdown",
   "id": "f6e98b89-6076-49ab-b8e3-c212e889ea6b",
   "metadata": {},
   "source": [
    "4. Мода - значение которое наиболее часто встречается в выборке. Например модой для массива [1,2,1,1,6,5,9,102,1] будет 1. Мода не всегда определена однозначно. !!! Мода имеет смысл и для номинальных признаков\n",
    "\n",
    "5. Отклонение - среднее и медиана не достаточно для адекватного описания выборки. Например для наборов [0,0,0,0,0] и [-2,-1,0,1,2] $h_x = \\bar x$, однако во второй выборке значения чаще отклоняются от от среднего.\n",
    "\n",
    "Отклонение считается по формуле $ S_x = \\sqrt{{1 \\over{n-1}} * \\displaystyle\\sum_{i=1}^{n} {(x_i - \\bar{x})}^2 } $\n",
    "\n",
    "Для первой выборки из прмера отклонение = 0\n",
    "\n",
    "Для второй выборки из примера отклонение = 1.58\n",
    "\n",
    "** Свойства отклонения **\n",
    "\n",
    "1. Отклонение всегда неотрицательно\n",
    "2. Отклонение значений P = 0, если значения P равны друг-другу\n",
    "3. Чем больше отклонение, тем сильнее разброс значений"
   ]
  },
  {
   "cell_type": "markdown",
   "id": "ef04cd6e-a359-4a9e-ba1e-8c8de7fe6808",
   "metadata": {},
   "source": [
    "### Симметричные выборки"
   ]
  },
  {
   "cell_type": "markdown",
   "id": "d460fe2b-0b9a-4d18-9e4d-fcd141c6fb65",
   "metadata": {},
   "source": [
    "Если $h_x$ близко к  $\\bar x$, то выборка называется симметричной, когда выполняется неравенство:\n",
    "\n",
    "модуль разности среднего и медианы <= 3*отклонение / sqrt(n)\n",
    "\n",
    "$| \\bar x - h_x | \\leq { 3S_x \\over \\sqrt n}$"
   ]
  },
  {
   "cell_type": "markdown",
   "id": "c4d23fb8-100f-4f1e-88d3-e17217ceb56f",
   "metadata": {},
   "source": [
    "## Коэф корреляции"
   ]
  },
  {
   "cell_type": "markdown",
   "id": "c6573195-6af7-4781-bb24-9af517615625",
   "metadata": {},
   "source": [
    "Необходима величина, которая показывает, как значения одного числовго признака, влияют или зависят от друго числовго признака. Также эта величина, должна иметь смысл для признаков выраженных через разные смысловие единины (кг и литры, метры и литры, ...)\n",
    "\n",
    "**Пример зависимости между столбцами**\n",
    "```\n",
    "| X1 | X2  |  X3 | X4 | X5 |\n",
    "|----|-----|-----|----|----|\n",
    "| 0  | 1   | 0   | 10 | 8  |\n",
    "| 1  | 0   | 200 | 13 | 6  |\n",
    "| 2  | 1   | 400 | 16 | 4  |\n",
    "| 3  | 63  | 600 | 19 | 2  |\n",
    "```\n",
    "Видна сильная зависиомсть между X1 и X3, X4, X5. Так как мы можем очень легко предсказать через выражения:\n",
    "\n",
    "$X_3 = X_1 * 200$\n",
    "\n",
    "$X_4 = 10 + X_1 *3$\n",
    "\n",
    "$X_5 = 8 - 2 * X_1$\n",
    "\n",
    "Показатель KK - показатель того, как переменные ложаться на прямую\n",
    "\n",
    "**Если точки легко складываются на прямой, то зависимость существует, иначе сложно судить о зависимости**\n",
    "\n",
    "Если простым языком, то коэф. корреляции показывает, как ваши данные ложатся на прямую. Ниже представлен пример того, как данные ложатся на прямую.\n",
    "\n",
    "Как считается?\n",
    "\n",
    "Пусть $X = [x_1,x_2,...,x_n]$, а $Y = [y_1,y_2,...,y_n]$\n",
    "\n",
    "$ r(X, Y) = { \\displaystyle\\sum_{i=1}^{n} ({x_1 * y_x}) - (n * \\bar {x} * \\bar {y}) \\over {(n-1) * S_X * X_Y} } $\n",
    "\n",
    "**Свойства корреляции**\n",
    "\n",
    "1. Число из отрезка [-1, 1]\n",
    "2. Если KK = 0, то зависимости между X,Y - нет\n",
    "3. Если КК > 0, то существует положительная зависимости (чем ближе к 1, тем сильнее). То есть при увеличении x - растет и y\n",
    "4. Если КК < 0, то существует отрицательная звисимость (чем ближе к -1, тем сильнее). То есть при уменьшении x - уменьшается и y\n",
    "5. Если |KK| равен 1, то существует сильная линейная зависимость"
   ]
  },
  {
   "cell_type": "code",
   "execution_count": null,
   "id": "7d84d376-1e64-458e-aa3f-41218c52156c",
   "metadata": {
    "scrolled": true,
    "tags": []
   },
   "outputs": [],
   "source": [
    "import pandas as pd\n",
    "import seaborn as sns\n",
    "import matplotlib.pyplot as plt\n",
    "%matplotlib inline\n",
    "\n",
    "df = pd.DataFrame(\n",
    "        [\n",
    "            [0,1,0,10,8],\n",
    "            [1,0,200,13,6],\n",
    "            [2,1,400,16,4],\n",
    "            [3,63,500,19,2]\n",
    "        ],\n",
    "        columns=['X1', 'X2', 'X3', 'X4', 'X5']\n",
    ")\n",
    "\n",
    "y_test_columns = df.columns[1:]\n",
    "\n",
    "for y_col in y_test_columns:\n",
    "    g = sns.lmplot(\n",
    "        data=df,\n",
    "        x=\"X1\", y=y_col,\n",
    "    )\n",
    "    g.set_axis_labels(\"X1\", f\"{y_col}\")\n",
    "    \n",
    "    plt.legend(title=f'X1 ~ {y_col}', loc='upper left', labels=[])\n",
    "    plt.show(g)\n"
   ]
  },
  {
   "cell_type": "code",
   "execution_count": null,
   "id": "6a3bb658-1503-4cf9-9f2b-f1c33d988926",
   "metadata": {},
   "outputs": [],
   "source": [
    "# через pandas\n",
    "# берем только числоые значения, в нашем случае int64, наиболее чаще в дикой природе float64\n",
    "float_cols = [col for col in df.columns if df[col].dtype == 'int64' ] # | float64\n",
    "df[float_cols].corr()"
   ]
  },
  {
   "cell_type": "code",
   "execution_count": null,
   "id": "2c17d97b-bf04-459e-953c-4760ad257274",
   "metadata": {},
   "outputs": [],
   "source": [
    "from pprint import pprint\n",
    "\n",
    "def median(sample: list[float]) -> float:\n",
    "    size = len(sample)\n",
    "    start_index = int(size / 2)\n",
    "    x = sorted(sample)\n",
    "    \n",
    "    if size % 2 != 0:\n",
    "        median_index = start_index\n",
    "        return x[median_index]\n",
    "    \n",
    "    median_left_child, median_right_child  = start_index - 1, start_index + 1\n",
    "\n",
    "    return sum(x[median_left_child:median_right_child]) / 2\n",
    "\n",
    "def mean(sample: list[float]) -> float:\n",
    "    return sum(sample) / len(sample)\n"
   ]
  },
  {
   "cell_type": "code",
   "execution_count": null,
   "id": "ec204aaa-b754-45e4-bf31-08a6a8b3df88",
   "metadata": {},
   "outputs": [],
   "source": [
    "# медиана в нечетном множествет\n",
    "x = sorted([1,3,5,5,15])\n",
    "\n",
    "describe = {\n",
    "    'mean': mean(x),\n",
    "    'median': median(x)\n",
    "}\n",
    "\n",
    "pprint(describe)"
   ]
  },
  {
   "cell_type": "code",
   "execution_count": null,
   "id": "2335ad7c-ea2e-4f0f-9bed-269b1acc1489",
   "metadata": {},
   "outputs": [],
   "source": [
    "# медиана в четном множестве\n",
    "x = sorted([1,3,5,5,15, 102])\n",
    "\n",
    "describe = {\n",
    "    'mean': mean(x),\n",
    "    'median': median(x)\n",
    "}\n",
    "\n",
    "pprint(describe)"
   ]
  },
  {
   "cell_type": "markdown",
   "id": "c3522ce5-33ca-46b9-87b7-c578740b37af",
   "metadata": {},
   "source": [
    "## Обработка пропусков"
   ]
  },
  {
   "cell_type": "markdown",
   "id": "867ab50a-7c2b-427f-b333-5d88485e46ea",
   "metadata": {},
   "source": [
    "### Простейшие способы обработки"
   ]
  },
  {
   "cell_type": "markdown",
   "id": "2fb6ef8d-1cde-45f0-b9f9-081a7d0416dc",
   "metadata": {},
   "source": [
    "Достаточно часто в дикой природе встречаются таблицы с прпоусками или заведомо ложными значениями.\n",
    "Возникает вопрос, что делать в данном случае (пропуски, выбросы, аномалии, билеберда)?\n",
    "\n",
    "Рассмотрим пример с такой таблицой, где часть ячеек не заполнена, а часть содержит некорректные данные\n",
    "\n",
    "например, вес не может равнятся 649 кг, вероятно была совершена ошибка и оригинальное значение 64.09.\n",
    "\n",
    "Место на олимпиаде не может быть отрицательным значением, исходя из описания переменной, вероятно это 4.\n",
    "\n",
    "Также видно, что существуют пропуски. Эти значения нужно либо как-то заполнить либо как-то что\n",
    "\n",
    "Скорее всего эти ошибки возникли из-за описки человека, который эту таблицу заполнял"
   ]
  },
  {
   "cell_type": "code",
   "execution_count": null,
   "id": "ad0f2270-eb4f-4a42-aa28-ebc86251ddee",
   "metadata": {},
   "outputs": [],
   "source": [
    "df = pd.DataFrame(\n",
    "    [\n",
    "        ['Сидоров', 1, pd.NA, 84.0, 1],\n",
    "        ['Козловский', 1, 76, 70, 3],\n",
    "        ['Петрова', 0, 61, 649, -4],\n",
    "        ['Казаков', pd.NA, 76, 56, 2]\n",
    "    ],\n",
    "    columns = ['Студент', 'Пол', 'Баллы_по_предмету', 'Вес', 'Место_на_WorldSkills']\n",
    ")\n",
    "\n",
    "df_base = df.copy()\n",
    "\n",
    "df"
   ]
  },
  {
   "cell_type": "markdown",
   "id": "da7ca9b8-d908-400f-89f0-676d036322b6",
   "metadata": {},
   "source": [
    "## Какие существуют простые методы обработки\n",
    "\n",
    "1. Удалить объект (строку)\n",
    "2. Удалить столбец, если пропусков очень много + нет никаких зависимых переменных\n",
    "3. Заменить значение на среднее (медиану, медиану, моду, ...) из значений столбца\n",
    "4. Посчитать относительно расстояний соседей\n",
    "5. Взять наиболее встречаемый признак у зависимых переменных \n",
    "\n",
    "P.S. 1 и 2 способы крайне радикальные и их стоит применять с осторожностью. Так как удаляя объекты с равномерно распределенными пропусками, вы утратите данные\n",
    "\n",
    "Например"
   ]
  },
  {
   "cell_type": "code",
   "execution_count": null,
   "id": "e20fdbc2-bf3c-4ada-bfcd-60bf44501298",
   "metadata": {},
   "outputs": [],
   "source": [
    "# Способ актуален для числовых признаков\n",
    "mean = df.Баллы_по_предмету.mean()\n",
    "\n",
    "median = df.Баллы_по_предмету.median()\n",
    "\n",
    "freq = df.Баллы_по_предмету.mode()\n",
    "\n",
    "describe = {\n",
    "    'mean': df.Баллы_по_предмету.mean(),\n",
    "    'median': df.Баллы_по_предмету.median(),\n",
    "    'mode': df.Баллы_по_предмету.mode().iloc[0,],\n",
    "}\n",
    "\n",
    "pprint(describe)\n",
    "# Какое значение из данных случаев подойдет для Сидорова\n",
    "df"
   ]
  },
  {
   "cell_type": "markdown",
   "id": "a9f5371e-db2c-4c7f-89ed-3e695c0d90a6",
   "metadata": {},
   "source": [
    "Как быть с номинальными признаками?\n",
    "\n",
    "В качестве примера рассмотрим пол\n",
    "\n",
    "- Заменить пропуски на моду (1)\n",
    "- Рандомизировать поиск. С вероятность < 2/3 считать как 1, с вероятность больше чем 1/3 считать 0\n",
    "- Объявить пол \"числовым\" и применить к нему методы восстановления для числовых значений\n",
    "- Более сложные способы восстановления (ближайшие соседи, постановка гипотез относительно этой переменной)\n"
   ]
  },
  {
   "cell_type": "code",
   "execution_count": null,
   "id": "abfa127a-072e-49fb-a9fb-092993566d94",
   "metadata": {},
   "outputs": [],
   "source": [
    "# Способ актуален для номинальных признаков признаков\n",
    "# Пол - считаем моду\n",
    "index = df_base[df_base.Пол.isnull()].index[0]\n",
    "\n",
    "df.at[index, 'Пол'] = df_base.Пол.mode().iloc[0]\n",
    "df"
   ]
  },
  {
   "cell_type": "code",
   "execution_count": null,
   "id": "457dda50-ba10-4229-90a2-ec5d5e639fbb",
   "metadata": {},
   "outputs": [],
   "source": [
    "# Вес считаем по среднему значению\n",
    "mean_weight = df_base.Вес[(df_base.Вес < 100)].mean()\n",
    "index = df_base[df_base.Вес == 649].index[0]\n",
    "\n",
    "df.at[index, 'Вес'] = mean_weight\n",
    "df"
   ]
  },
  {
   "cell_type": "code",
   "execution_count": null,
   "id": "2c3e6642-304b-4fc3-8fbc-a65ed49c7488",
   "metadata": {},
   "outputs": [],
   "source": [
    "# делаем abs для места на соревновании\n",
    "import numpy as np\n",
    "\n",
    "df.Место_на_WorldSkills = np.abs(df.Место_на_WorldSkills.to_numpy())\n",
    "df"
   ]
  },
  {
   "cell_type": "code",
   "execution_count": null,
   "id": "a73d9cff-77c4-48f9-83cc-9445c1156a7a",
   "metadata": {},
   "outputs": [],
   "source": [
    "df"
   ]
  },
  {
   "cell_type": "markdown",
   "id": "d08c0d2d-cc2a-47fc-b927-92074faee57d",
   "metadata": {},
   "source": [
    "### Восстановка с помощью метрик (Мера близости)"
   ]
  },
  {
   "cell_type": "markdown",
   "id": "4c7f13ac-33f7-4386-851a-40ae272d505e",
   "metadata": {},
   "source": [
    "Метрика - понятие из геометрии, может быть рассчитана для объектов произвольный припроды.\n",
    "\n",
    "Задача - найти значение метрики на паре $X$, $Y$, где $X = [x_1,x_2,..,x_n] $, $ Y = [y_1, y_2, ..., y_n] $\n",
    "\n",
    "1. Евклидова метрика (из учбеника по геометрии) $ p(X,Y) = \\sqrt { (x_1 - y_1)^2 + (x_2 - y_2)^2 + ... (x_n - y_n)^2 } $\n",
    "\n",
    "2. [Метрика Манхеттен](https://math.fandom.com/ru/wiki/%D0%A0%D0%B0%D1%81%D1%81%D1%82%D0%BE%D1%8F%D0%BD%D0%B8%D0%B5_%D0%B3%D0%BE%D1%80%D0%BE%D0%B4%D1%81%D0%BA%D0%B8%D1%85_%D0%BA%D0%B2%D0%B0%D1%80%D1%82%D0%B0%D0%BB%D0%BE%D0%B2) $ p(X,Y) = |x_1 - y_1| + |x_2 - y_2| + ... + (x_n - y_n) $\n",
    "\n",
    "3. Max Метрка $ p(X,Y) = max(|x_1 - y_1|, |x_2 - y_2|, ..., |(x_n - y_n)|) $\n",
    "\n",
    "4. [И так далее, желательно почитать](https://towardsdatascience.com/9-distance-measures-in-data-science-918109d069fa)\n",
    "\n",
    "5. Можно придумать свою, но обязтально выполнение свойств\n",
    "\n",
    "**Свойства метрик**\n",
    "- $p(X, X) = 0$, расстояние об объекта до него же самого равно 0\n",
    "- $p(X,Y) = p(Y,X)$, одинаковые точки должны быть равны\n",
    "- $p(X,Y) <= p(X, M) + p(M, Y)$, расстояние от X до Y, должна быть меньше суммы расстояний пройденные через промежуточные точки\n",
    "\n",
    "Как использовать метрики?💡\n",
    "\n",
    "Необходимо рассчитать расстояние от $X$ до других объектов, чтобы найти наиболее близкие объекты к $X$.\n",
    "Тогда значения Признака $X_p$ из ближайших $k$ объектов можно взять за значение  $X_p$ \n",
    "\n",
    "1. Исключаем столбец из с признаком $K$\n",
    "2. Найдем расстояние от $X$ до остальных объектов $p(X, X_1)$, $p(X, X_2)$, ..., $p(X, X_3)$\n",
    "3. Пусть значения признака $K$ Для объектов $X_1, X_2, ... X_n$ равны $P(X_1)$, $P(X_2)$, ..., $P(X_n)$"
   ]
  },
  {
   "cell_type": "code",
   "execution_count": null,
   "id": "157b8e1c-6dec-4979-bb34-8d0d765f3af8",
   "metadata": {},
   "outputs": [],
   "source": [
    "import math \n",
    "import numpy as np\n",
    "\n",
    "def calc_metric(sample1: np.array, sample2: np.array, formula: str) -> float:\n",
    "\n",
    "    fn = {\n",
    "        'euclid': lambda : np.sqrt(np.sum(np.square(sample1 - sample2))),\n",
    "        'manhattan': lambda : np.sum(np.abs(sample1 - sample2)),\n",
    "        'max': lambda : np.max(np.abs(sample1 - sample2))\n",
    "    }\n",
    "\n",
    "        \n",
    "    return fn[formula]()\n",
    "\n",
    "df"
   ]
  },
  {
   "cell_type": "code",
   "execution_count": null,
   "id": "7b7a30d1-d180-469f-81e2-00b336195c04",
   "metadata": {},
   "outputs": [],
   "source": [
    "# Массив коэфициентов расстояний объектов\n",
    "metrics_result = []\n",
    "\n",
    "df_test = df[df.columns[[1,3,4]]]\n",
    "\n",
    "x = df_test.loc[df.Баллы_по_предмету.isnull()].to_numpy()\n",
    "\n",
    "for columns, values in df_test[~df.Баллы_по_предмету.isnull()].iterrows():\n",
    "    x2 = values.to_numpy()\n",
    "    metric_value = calc_metric(x, x2, 'euclid')\n",
    "    metrics_result.append(metric_value)\n",
    "    print('metric:', metric_value)\n",
    "    \n",
    "values = df[~df.Баллы_по_предмету.isnull()].Баллы_по_предмету.to_numpy()\n",
    "metrics_result = np.array(metrics_result)\n",
    "\n",
    "normal = 1 / np.sum(1 / metrics_result) # коэфициент нормализации, нужен т.к. если расстояние близкое - то значение большое, иначе малое\n",
    "\n",
    "ball = np.sum(np.divide(values, metrics_result)) * normal # вычисляем результат\n"
   ]
  },
  {
   "cell_type": "code",
   "execution_count": null,
   "id": "456306ab-7b9d-4cbd-ac92-e0c7e7ac6d21",
   "metadata": {},
   "outputs": [],
   "source": [
    "df_copied = df.copy()\n",
    "\n",
    "df_copied.at[0, 'Баллы_по_предмету'] = ball\n",
    "df_copied"
   ]
  },
  {
   "cell_type": "markdown",
   "id": "4062524c-1c4f-44b9-98e5-71245b089e51",
   "metadata": {},
   "source": [
    "Вообщем обработка пропусков это большая сложная тема, нет конкретно четкой методики, как поступить в той или иной ситуации.\n",
    "\n",
    "**[Дополнительно почитать, как можно обработать пропуски](https://towardsdatascience.com/7-ways-to-handle-missing-values-in-machine-learning-1a6326adf79e)**"
   ]
  },
  {
   "cell_type": "code",
   "execution_count": null,
   "id": "5cf35479-699f-4635-9618-6c0ad4cb2b2a",
   "metadata": {},
   "outputs": [],
   "source": []
  }
 ],
 "metadata": {
  "kernelspec": {
   "display_name": "Python 3",
   "language": "python",
   "name": "python3"
  },
  "language_info": {
   "codemirror_mode": {
    "name": "ipython",
    "version": 3
   },
   "file_extension": ".py",
   "mimetype": "text/x-python",
   "name": "python",
   "nbconvert_exporter": "python",
   "pygments_lexer": "ipython3",
   "version": "3.9.1"
  }
 },
 "nbformat": 4,
 "nbformat_minor": 5
}
