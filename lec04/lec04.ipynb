{
 "cells": [
  {
   "cell_type": "code",
   "execution_count": null,
   "id": "8e28df39-3ead-4f82-9293-33a3b9966ba4",
   "metadata": {},
   "outputs": [],
   "source": [
    "!pip install scipy\n",
    "!pip install pandas\n",
    "!pip install numpy\n",
    "!pip install scikit-learn\n",
    "!pip install seaborn"
   ]
  },
  {
   "cell_type": "markdown",
   "id": "aba1308e-71a0-40f5-bc8d-dddd2038bfa1",
   "metadata": {
    "tags": []
   },
   "source": [
    "## Поиск выбросов (outlier detection) и аномалий в данных"
   ]
  },
  {
   "cell_type": "markdown",
   "id": "074f6c08-6bef-413c-b2da-d8c638b8e97d",
   "metadata": {},
   "source": [
    "Выброс - такой объект в признаке, который отличается от остальных (очень странные значения, не похожие на другие). Но в тоже время, является **реально сущесвутющим** объектом.\n",
    "\n",
    "Так как, он является корректным значением (не пустым, не опечаткой), то влечет иной способ обработки. С прошлыми случаями мы поступали так - заменяли на среднее, медиану, КК, расстояния, регрессию, итп.\n",
    "\n",
    "Поступают с ними очень жестко - как только вы нашли выброс, то **безжалостно удаляем**\n",
    "\n",
    "<Пример выброса и почему надо удалять>\n",
    "\n",
    "\n",
    "Зачем нужно искать и удалять выбросы:\n",
    "- если задачей является предсказывание, то удаление выброса то как правило увеличивает точность.\n",
    "- получаем типичные данные\n",
    "- большинство статистических характеристик очень чувствительны к выбросам (если посчитаем зарплату сотрудников компании Рога и Копыта, то получим вполне себе среднюю зарплату, но если в выборку добавим топ менеджет гугла, то средняя зарплата перестанет быть адекватной)\n",
    "\n",
    "Несколько слов о выбросах:\n",
    "- математического определения выброса **не существует!**, кроме того, каждый алгоритм/человек/что-то еще имеет свой способ определения что же такое этот выброс. Исходя из этого, сложно провести конкретно четкую границу между нормой и аномалией\n",
    "- \"жетский\" способ удаления выбросов будет удалять и часть типичных (нормальных) объектов\n",
    "- \"мягкий \" способ удаления выбросов будет оставлять и выбросы\n",
    "\n",
    "То есть, идеального и строго определенного подхода к выбросам - **не существует!**\n",
    "\n",
    "\n",
    "Как искать:\n",
    "- смысловая нагрузка признака. Мы знаем, что типичный рост человека где-то в дапозоне $ [140,200](см) $, тогда как 250см тоже существует, но является выбросом\n",
    "- методы основанные на анализе одного признака (каждый признак анализируется отдельно)\n",
    "- методы основанные на анализе сразу нескольких признаков\n",
    "\n",
    "Вывод:\n",
    "- наличие выбросов ухудшает качество ML моделей\n",
    "- сложно формально определить, что такое выброс\n",
    "- нетипичные значения в генеральной совокупности - есть выброс\n"
   ]
  },
  {
   "cell_type": "markdown",
   "id": "b8a24052-577a-44dd-9aaf-9c1687e6feea",
   "metadata": {},
   "source": [
    "### Простейшие идеи поиска выбросов"
   ]
  },
  {
   "cell_type": "markdown",
   "id": "f5271276-aa5d-4f97-a4a2-695b733923aa",
   "metadata": {},
   "source": [
    "$X = (x_1, x_2, ..., x_n)$\n",
    "\n",
    "$\\bar X$ - среднее\n",
    "\n",
    "$n$ - размер выборки\n",
    "\n",
    "$S_x$ - отклонение\n",
    "\n",
    "Идея - найти все объекты, которые слишком далеко от среднего (медианы):\n",
    "1. удалить те объекты, у которых $|x_1 - \\bar x|$ далеко\n",
    "2. удалить те объекты, у которых ${|x_1 - \\bar x|} \\over S_x$ \n",
    "3. критерий Шовене\n",
    "4. без использования среднего и отклонения\n"
   ]
  },
  {
   "cell_type": "markdown",
   "id": "b0a50a69-3cf9-4674-ae4b-515924833dd6",
   "metadata": {},
   "source": [
    "#### Пример алгоритма идеи 2"
   ]
  },
  {
   "cell_type": "markdown",
   "id": "53e7baa3-baa6-4074-91c8-40c600cad194",
   "metadata": {},
   "source": [
    "1. a - подозреваемый на выброс\n",
    "2. уберем a из выборки и вычислим среднее и отклонение без него\n",
    "3. если выборка является симметричной (см lec03), то x является выбросом, если не принадлежит $(\\bar X - 3S_x, \\bar X + 3S_x)$\n",
    "4. если не симметрична, то то x является выбросом, если не принадлежит $(\\bar X - 5S_x, \\bar X + 5S_x)$"
   ]
  },
  {
   "cell_type": "markdown",
   "id": "b30682aa-1a69-4708-8f39-20892da6d3fc",
   "metadata": {},
   "source": [
    "#### Критерий Шовене (Chauvenet)"
   ]
  },
  {
   "cell_type": "markdown",
   "id": "22529efe-8e40-4ef1-8b52-accb126b97ec",
   "metadata": {},
   "source": [
    "Более продвинутый способ поиска выброса - критерий шовене\n",
    "\n",
    "Суть:\n",
    "значение $x_i$ будет выбросом, если выполнено неравенство $erfc({|x_i - \\bar x| \\over S_x}) < {1 \\over 2n} $ \n",
    "\n",
    "[erfc](https://ru.wikipedia.org/wiki/%D0%A4%D1%83%D0%BD%D0%BA%D1%86%D0%B8%D1%8F_%D0%BE%D1%88%D0%B8%D0%B1%D0%BE%D0%BA) - дополнительная функция ошибок. C возврастанием аргумента функция стримится к нулю. То есть, если подставить в неравенство слишком больше число, то значение будет выбросом.\n",
    "\n",
    "функцию можно использовать многократно. "
   ]
  },
  {
   "cell_type": "code",
   "execution_count": 66,
   "id": "0740b3d9-7843-45b4-83a8-e9e4b2c06fc6",
   "metadata": {},
   "outputs": [
    {
     "name": "stdout",
     "output_type": "stream",
     "text": [
      "sample:  [  1   2   3   4   5   6   7   8 100]\n",
      "test_result:  [ True  True  True  True  True  True  True  True False]\n",
      "-----\n",
      "sample:  [1 2 3 4 5 6 7 8]\n",
      "test_result:  [ True  True  True  True  True  True  True  True]\n",
      "-----\n",
      "[1 2 3 4 5 6 7 8]\n"
     ]
    }
   ],
   "source": [
    "from scipy.special import erfc\n",
    "import numpy as np\n",
    "import scipy.stats as st\n",
    "\n",
    "arr = np.array([3,5,8,15,100,32,126,384])\n",
    "\n",
    "def chauvenet(y: np.array, mean=None, stdv=None) -> np.array:\n",
    "    # based on https://github.com/msproteomicstools/msproteomicstools/blob/master/msproteomicstoolslib/math/chauvenet.py\n",
    "    '''\n",
    "        Returns: np.array[bool]. if false, then outlier\n",
    "    '''\n",
    "    if mean is None:\n",
    "        mean = y.mean()    # Mean of incoming array y\n",
    "    if stdv is None:\n",
    "        stdv = y.std()      # Its standard deviation\n",
    "\n",
    "    abs_deviation = np.abs(y - mean) / stdv\n",
    "    d = erfc(abs_deviation)\n",
    "    # Calculate the maximum absolute deviation that is still acceptable according to Chauvenet's criterion\n",
    "    threshold = 1 / (2 * y.size - 1)\n",
    "\n",
    "    # Determine which data points are outliers\n",
    "    is_outlier = d > threshold\n",
    "\n",
    "    # Return the indices of the outliers\n",
    "    return is_outlier\n",
    "\n",
    "train = np.array([1,2,3,4,5,6,7,8, 100 ])\n",
    "\n",
    "\n",
    "mean = train.mean()\n",
    "stdv = train.std()\n",
    "\n",
    "def iterate(sample: np.array, repeat: bool = True) -> np.array:\n",
    "    test_result = chauvenet(sample, mean, stdv)\n",
    "    repeat = np.any(test_result == False)\n",
    "    \n",
    "    print('sample: ', sample)\n",
    "    print('test_result: ', test_result)\n",
    "    print('-----')\n",
    "    \n",
    "    if repeat:\n",
    "        return iterate(sample[test_result], repeat)\n",
    "    \n",
    "    return sample\n",
    "    \n",
    "print(iterate(sample=train))"
   ]
  },
  {
   "cell_type": "markdown",
   "id": "7e08b799-412e-4c98-82fc-84d23efa3ea9",
   "metadata": {
    "tags": []
   },
   "source": [
    "#### Поиск без среднего и отклонения"
   ]
  },
  {
   "cell_type": "markdown",
   "id": "51130cff-ef58-45b5-a7c9-16388c87bfdf",
   "metadata": {},
   "source": [
    "Использование среднего и отклонения приводит к проблемам (которые рассматривались ранее), так как эти метрики сильно чувствительны к выбросам.\n",
    "\n",
    "Возникает идея, использовать методы, основанные на более устойчивых метриках"
   ]
  },
  {
   "cell_type": "markdown",
   "id": "e71987d3-933f-4b84-bd45-6f8ffadf290a",
   "metadata": {
    "tags": []
   },
   "source": [
    "##### Квартили"
   ]
  },
  {
   "cell_type": "markdown",
   "id": "bdd09fe6-c547-4858-b071-2d2264349c03",
   "metadata": {},
   "source": [
    "$Q_{25}$ - такое число, что 25% выборки меньше \n",
    "\n",
    "$Q_{50}$ - Такое число, что 50% выборки меньше\n",
    "\n",
    "$Q_{75}$ - такое число, что 75% выборки меньше \n",
    "\n",
    "Как считаем?\n",
    "1) Соортируем и ищем медиану - получаем $Q_{50}$\n",
    "2) Делим выборку на 2 части, left - меньше медианы, right - больше медианы\n",
    "3) Ищем медиану внутри этих выборок, получаем $Q_{25}$ из left, $Q_{75}$ из right\n",
    "\n",
    "Как использовать для поиска аномалий?\n",
    "\n",
    "Фактически, 50% выборки лежит в интервале $[Q_{25}, Q_{75}]$, тогда элементы, которые сильно далеки от $Q_{25}$, $Q_{75}$ этого интервала, считаем выбросами.\n",
    "\n",
    "Правило: Если элемент не попадает в интервал $(Q_{25} - 1.5*(Q_{75} - Q_{25}), Q_{75} + 1.5*(Q_{75} - Q_{25}))$, то элемент есть выброс\n",
    "\n",
    "P.S. на этом и основан boxplot"
   ]
  },
  {
   "cell_type": "markdown",
   "id": "5843d334-be03-401a-abf2-b055fbefa7ac",
   "metadata": {},
   "source": [
    "### Методы основанные на нескольких признаках"
   ]
  },
  {
   "cell_type": "markdown",
   "id": "0b6c5b83-7d68-4585-8104-e6b10093d92b",
   "metadata": {},
   "source": [
    "Недостатки методов, основанные на одном признаке\n",
    "\n",
    "1) Представим выборку $(1,100,1,100,1,100, 30, 30, 30, 100,1, 100, 30, 50)$, 50 очевидно выброс, но ни один из методов анализа одного признака не сможет его отловить\n",
    "\n",
    "2) Аномалии могут характеризоваться не только экстримальными значениями одного признака, но и комбинацией нескольких признаков (визульно можно посмотреть при помощи scatter). Например, рост 180см и вес 30кг\n",
    "\n",
    "Какие идеи могут помочь?\n",
    "1) метрические методы (расстояние от объекта, до его ближайших соседей очень большое)\n",
    "2) геометрические методы\n",
    "3) кластеризация (обучение без учителя). Например, если объект попадает в слишком маленький кластер, то вероятно это выброс\n",
    "4) модели машинного обучения, различные вариациии decision trees, некоторые SVM\n",
    "5) использовать предсказание признака по другим признакам, объекты для которых предсказание предсказание сильно разнится, можно объявить выбросом. **Но скорее всего, такой алгоритм не даст нормального результата, нужно быть с этим аккуратнее. Такое можно использовать, когда мы четко понимаем, что это зависимые величины**\n",
    "\n",
    "[*дополнительно почитать](http://data4.ru/anomalydetection)"
   ]
  },
  {
   "cell_type": "code",
   "execution_count": 67,
   "id": "2942924f-9eef-4fef-b915-ec45aee9e2d6",
   "metadata": {},
   "outputs": [],
   "source": [
    "import numpy as np\n",
    "\n",
    "def to_pairs(arr1, arr2):\n",
    "    return np.vstack((arr1, arr2)).T\n",
    "\n",
    "def standard_scale(X):\n",
    "    mean = np.mean(X, axis=0)\n",
    "    std = np.std(X, axis=0)\n",
    "\n",
    "    # Normalize the data\n",
    "    X_norm = (X - mean) / std\n",
    "    \n",
    "    return X_norm"
   ]
  },
  {
   "cell_type": "code",
   "execution_count": 68,
   "id": "625aa59a-f3c4-4814-8597-024ef3e5252f",
   "metadata": {},
   "outputs": [
    {
     "data": {
      "text/plain": [
       "<Axes: >"
      ]
     },
     "execution_count": 68,
     "metadata": {},
     "output_type": "execute_result"
    },
    {
     "data": {
      "image/png": "[encoded data removed]",
      "text/plain": [
       "<Figure size 640x480 with 1 Axes>"
      ]
     },
     "metadata": {},
     "output_type": "display_data"
    }
   ],
   "source": [
    "import seaborn as sns\n",
    "import numpy as np\n",
    "\n",
    "%matplotlib inline\n",
    "\n",
    "np.random.seed(54)\n",
    "\n",
    "weight = np.random.uniform(low=10, high=100, size=(50,))\n",
    "# sam\n",
    "height = np.random.uniform(low=130, high=200, size=(50,))\n",
    "\n",
    "sns.scatterplot(x=weight, y=height) # видим, , что точки выше 190 и с маленьким весом вероятно являются выбросами"
   ]
  },
  {
   "cell_type": "markdown",
   "id": "0dc059fa-3ded-439e-9703-b8ea501031f4",
   "metadata": {},
   "source": [
    "Для примера рассмотрим метод [кластеризации основанный на плотности](https://scikit-learn.org/stable/modules/generated/sklearn.cluster.DBSCAN.html), более детально методы обучения без учителя будет изучать далее.\n",
    "\n",
    "У данного метода есть 2 обязтаельных параметра:\n",
    "- EPS: Максимальное расстояние между двумя точками, при котором точка считается соседним с другой. Это самый важный параметр DBSCAN, который следует правильно выбрать для вашего набора данных и функции расстояния. (про то, как выбирать EPS поговорим в следующих лекциях)\n",
    "- min_samples: минимальное количетсов точек в кластере\n"
   ]
  },
  {
   "cell_type": "code",
   "execution_count": 69,
   "id": "eb9355ba-298c-49d8-a383-73cfd305edcf",
   "metadata": {},
   "outputs": [
    {
     "name": "stdout",
     "output_type": "stream",
     "text": [
      "dots labels:  [0, 1, 2, 3, 4, 5, 6, 7, 3, 8, 3, 9, 10, 11, 12, 13, 9, 14, 6, 13, 9, 2, 15, 15, 3, 16, 3, 15, 17, 3, 18, 19, 15, 11, 11, 16, 10, 20, 10, 3, 21, 22, 10, 15, 13, 3, 11, 23, 23, 24]\n"
     ]
    },
    {
     "data": {
      "text/plain": [
       "<Axes: >"
      ]
     },
     "execution_count": 69,
     "metadata": {},
     "output_type": "execute_result"
    },
    {
     "data": {
      "image/png": "[encoded data removed]",
      "text/plain": [
       "<Figure size 640x480 with 1 Axes>"
      ]
     },
     "metadata": {},
     "output_type": "display_data"
    }
   ],
   "source": [
    "from sklearn.cluster import DBSCAN\n",
    "\n",
    "X = to_pairs(weight, height) # превращаем вес, рост в пары\n",
    "X_norm = standard_scale(X) # используем стандартизацию\n",
    "\n",
    "# ВАЖНО! на обучение отдаем нормированные данные!\n",
    "clustering = DBSCAN(eps=0.3, min_samples=1).fit(X_norm) # обучаем модель, сейчас EPS была выбрана случайным образом\n",
    "\n",
    "x_labels = clustering.labels_ # получаем отношение точек к кластеру\n",
    "print('dots labels: ', list(x_labels))\n",
    "sns.scatterplot(x=weight, y=height, c=clustering.labels_)\n"
   ]
  },
  {
   "cell_type": "code",
   "execution_count": 70,
   "id": "e025a1e6-870f-4771-a769-723facb28c09",
   "metadata": {},
   "outputs": [
    {
     "name": "stdout",
     "output_type": "stream",
     "text": [
      "Points to leave = False: [False, False, False, True, False, False, False, False, True, False, True, True, True, True, False, True, True, False, False, True, True, False, True, True, True, False, True, True, False, True, False, False, True, True, True, False, True, False, True, True, False, False, True, True, True, True, True, False, False, False]\n",
      "\n",
      " Как видим из результата, выборка стала более стабильной \n"
     ]
    },
    {
     "data": {
      "image/png": "[encoded data removed]",
      "text/plain": [
       "<Figure size 640x480 with 1 Axes>"
      ]
     },
     "metadata": {},
     "output_type": "display_data"
    }
   ],
   "source": [
    "from collections import Counter\n",
    "# Далее говорим, что выбросами являются те точки, у которых расстояние до других точек слишком больше (мы это видим, по количеству точек в кластерах)\n",
    "labels_counter = Counter(x_labels) \n",
    "\n",
    "# далее дропаем те, у которых только меньше двух точек в кластере\n",
    "\n",
    "filter_dots = np.array([labels_counter[label] > 2 for label in x_labels])\n",
    "\n",
    "print('Points to leave = False:', list(filter_dots))\n",
    "\n",
    "X_filtered = X[filter_dots]\n",
    "height_filtered =  X_filtered[:, 1]\n",
    "weight_filttered = X_filtered[:, 0]\n",
    "\n",
    "sns.scatterplot(x=weight_filttered, y=height_filtered)\n",
    "print('\\n', 'Как видим из результата, выборка стала более стабильной ')"
   ]
  },
  {
   "cell_type": "markdown",
   "id": "c6646941-7a42-482b-aebe-2b07c1b5aef4",
   "metadata": {
    "tags": []
   },
   "source": [
    "## Гипотезы и статистическая значимость"
   ]
  },
  {
   "cell_type": "markdown",
   "id": "0c745479-f771-440e-b69c-a05e8da57651",
   "metadata": {},
   "source": [
    "- распределение веса у мужчин и выборке имеет различие\n",
    "- распределение роста является нормальным\n",
    "- дисперсия веса в среднем различается\n",
    "- ...\n",
    "\n",
    "Проверка гипотез используется для проверки обоснованности утверждения (нулевой гипотезы), сделанного в отношении совокупности с использованием выборочных данных. Альтернативная гипотеза — это та, в которую вы бы поверили, если бы нулевая гипотеза оказалась неверной."
   ]
  }
 ],
 "metadata": {
  "kernelspec": {
   "display_name": "Python 3 (ipykernel)",
   "language": "python",
   "name": "python3"
  },
  "language_info": {
   "codemirror_mode": {
    "name": "ipython",
    "version": 3
   },
   "file_extension": ".py",
   "mimetype": "text/x-python",
   "name": "python",
   "nbconvert_exporter": "python",
   "pygments_lexer": "ipython3",
   "version": "3.9.1"
  }
 },
 "nbformat": 4,
 "nbformat_minor": 5
}
